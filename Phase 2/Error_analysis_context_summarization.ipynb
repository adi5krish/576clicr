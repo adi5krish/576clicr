{
 "cells": [
  {
   "cell_type": "code",
   "execution_count": 1,
   "metadata": {},
   "outputs": [],
   "source": [
    "import json"
   ]
  },
  {
   "cell_type": "code",
   "execution_count": 5,
   "metadata": {},
   "outputs": [
    {
     "name": "stdout",
     "output_type": "stream",
     "text": [
      "<class '_io.TextIOWrapper'>\n"
     ]
    }
   ],
   "source": [
    "#reading both json files\n",
    "f1 = open('file1.json',)\n",
    "f2 = open('file2.json',)\n",
    "#print(type(f1))"
   ]
  },
  {
   "cell_type": "code",
   "execution_count": 3,
   "metadata": {},
   "outputs": [],
   "source": [
    "#taking data of both files into dictionaries\n",
    "data1 = json.load(f1)\n",
    "data2 = json.load(f2)"
   ]
  },
  {
   "cell_type": "code",
   "execution_count": 18,
   "metadata": {},
   "outputs": [
    {
     "name": "stdout",
     "output_type": "stream",
     "text": [
      "Total elements in dataset1:  3558\n",
      "Total set found in both datasets 2510\n",
      "Total set in dataset2 2510\n",
      "Count of items that became empty after implementation:  570\n",
      "Count of items that were remained empty :  684\n",
      "Count of items that were filled :  225\n",
      "Count of items that were remained filled :  1031\n"
     ]
    }
   ],
   "source": [
    "count_empty_always=0\n",
    "count_filled_always=0\n",
    "count_filled_after=0\n",
    "count_empty_after=0\n",
    "total=0\n",
    "total2=0\n",
    "tot=0\n",
    "for key in data2:\n",
    "    tot+=1\n",
    "\n",
    "for key in data1:\n",
    "    total+=1\n",
    "    if key in data2:\n",
    "        total2+=1\n",
    "        if data1[key]==\"\" and data2[key]==\"\":\n",
    "            count_empty_always+=1\n",
    "        elif data1[key]==\"\" and data2[key]!=\"\":\n",
    "            count_filled_after+=1\n",
    "        elif data1[key]!=\"\" and data2[key]==\"\":\n",
    "            count_empty_after+=1\n",
    "        else:\n",
    "            count_filled_always+=1\n",
    "print(\"Total elements in dataset1: \",total)\n",
    "print(\"Total set found in both datasets\",total2)\n",
    "print(\"Total set in dataset2\",tot)\n",
    "print(\"Count of items that became empty after implementation: \",count_empty_after)\n",
    "print(\"Count of items that were remained empty : \",count_empty_always)\n",
    "print(\"Count of items that were filled : \",count_filled_after)\n",
    "print(\"Count of items that were remained filled : \",count_filled_always)"
   ]
  },
  {
   "cell_type": "code",
   "execution_count": null,
   "metadata": {},
   "outputs": [],
   "source": []
  }
 ],
 "metadata": {
  "kernelspec": {
   "display_name": "Python 3",
   "language": "python",
   "name": "python3"
  },
  "language_info": {
   "codemirror_mode": {
    "name": "ipython",
    "version": 3
   },
   "file_extension": ".py",
   "mimetype": "text/x-python",
   "name": "python",
   "nbconvert_exporter": "python",
   "pygments_lexer": "ipython3",
   "version": "3.5.2"
  }
 },
 "nbformat": 4,
 "nbformat_minor": 2
}
